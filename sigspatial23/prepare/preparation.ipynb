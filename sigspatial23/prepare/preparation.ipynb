{
 "cells": [
  {
   "cell_type": "code",
   "execution_count": 8,
   "metadata": {},
   "outputs": [],
   "source": [
    "import geopandas as gpd\n",
    "import pandas as pd\n",
    "\n",
    "import os\n",
    "import json\n",
    "\n",
    "import trackintel as ti\n",
    "from trackintel.io.dataset_reader import read_geolife, geolife_add_modes_to_triplegs"
   ]
  },
  {
   "cell_type": "code",
   "execution_count": 2,
   "metadata": {},
   "outputs": [
    {
     "name": "stdout",
     "output_type": "stream",
     "text": [
      "1.2.3\n"
     ]
    }
   ],
   "source": [
    "print(trackintel.__version__)"
   ]
  },
  {
   "cell_type": "code",
   "execution_count": 3,
   "metadata": {},
   "outputs": [],
   "source": [
    "DATA_DIR = os.path.join(\"..\", \"..\", \"paths.json\")\n",
    "with open(DATA_DIR) as json_file:\n",
    "    CONFIG = json.load(json_file)"
   ]
  },
  {
   "cell_type": "code",
   "execution_count": 4,
   "metadata": {},
   "outputs": [
    {
     "name": "stderr",
     "output_type": "stream",
     "text": [
      "100%|██████████| 182/182 [00:56<00:00,  3.23it/s]\n"
     ]
    }
   ],
   "source": [
    "## read\n",
    "pfs, mode_labels = read_geolife(os.path.join(\"..\", \"..\", CONFIG[\"data_dir\"], \"Data\"), print_progress=True)"
   ]
  },
  {
   "cell_type": "code",
   "execution_count": 5,
   "metadata": {},
   "outputs": [
    {
     "name": "stderr",
     "output_type": "stream",
     "text": [
      "/Users/yehong/mambaforge/envs/reprotrack/lib/python3.9/site-packages/trackintel/preprocessing/positionfixes.py:113: UserWarning: 146900 duplicates were dropped from your positionfixes. Dropping duplicates is recommended but can be prevented using the 'exclude_duplicate_pfs' flag.\n",
      "  warnings.warn(warn_str)\n",
      "100%|██████████| 182/182 [00:30<00:00,  5.90it/s]\n"
     ]
    }
   ],
   "source": [
    "# generate staypoints, triplegs and trips\n",
    "pfs, sp = pfs.generate_staypoints(time_threshold=5.0, gap_threshold=1e6, print_progress=True, n_jobs=-1)\n",
    "sp[\"duration\"] = (sp[\"finished_at\"] - sp[\"started_at\"]).dt.total_seconds()"
   ]
  },
  {
   "cell_type": "code",
   "execution_count": 7,
   "metadata": {},
   "outputs": [
    {
     "name": "stderr",
     "output_type": "stream",
     "text": [
      "/Users/yehong/mambaforge/envs/reprotrack/lib/python3.9/site-packages/trackintel/preprocessing/positionfixes.py:508: UserWarning: The positionfixes with ids [ 8088319  8088320 22941202 22941203  6660582  6660583 21005748 21005749\n",
      " 20967947 20967948   123109   123110   118896   118897   119237   119238\n",
      "   121376   121377   126464   126465 23445938 23445939  9935061  9935062] lead to invalid tripleg geometries. The resulting triplegs were omitted and the tripleg id of the positionfixes was set to nan\n",
      "  warnings.warn(warn_string)\n"
     ]
    }
   ],
   "source": [
    "pfs, tpls = pfs.generate_triplegs(sp, gap_threshold=15, print_progress=True)\n",
    "tpls = geolife_add_modes_to_triplegs(tpls, mode_labels)"
   ]
  },
  {
   "cell_type": "code",
   "execution_count": 10,
   "metadata": {},
   "outputs": [],
   "source": [
    "sp = sp.create_activity_flag(time_threshold=15)"
   ]
  },
  {
   "cell_type": "code",
   "execution_count": 11,
   "metadata": {},
   "outputs": [],
   "source": [
    "sp, tpls, trips = sp.generate_trips(tpls, gap_threshold=15, add_geometry=False)"
   ]
  },
  {
   "cell_type": "code",
   "execution_count": null,
   "metadata": {},
   "outputs": [],
   "source": [
    "\n",
    "# assign mode\n",
    "tpls[\"pred_mode\"] = predict_transport_mode(tpls)[\"mode\"]\n",
    "tpls.loc[tpls[\"mode\"].isna(), \"mode\"] = tpls.loc[tpls[\"mode\"].isna(), \"pred_mode\"]\n",
    "tpls.drop(columns={\"pred_mode\"}, inplace=True)\n",
    "\n",
    "# get the length\n",
    "tpls[\"length_m\"] = calculate_haversine_length(tpls)\n",
    "\n",
    "groupsize = tpls.groupby(\"trip_id\").size().to_frame(name=\"triplegNum\").reset_index()\n",
    "tpls_group = tpls.merge(groupsize, on=\"trip_id\")\n",
    "\n",
    "# trips only with 1 triplegs\n",
    "res1 = tpls_group.loc[tpls_group[\"triplegNum\"] == 1][[\"trip_id\", \"length_m\", \"mode\"]].copy()\n",
    "\n",
    "# get the mode and length of remaining trips\n",
    "remain = tpls_group.loc[tpls_group[\"triplegNum\"] != 1].copy()\n",
    "remain.sort_values(by=\"length_m\", inplace=True, ascending=False)\n",
    "mode = remain.groupby(\"trip_id\").head(1).reset_index(drop=True)[[\"mode\", \"trip_id\"]]\n",
    "\n",
    "length = remain.groupby(\"trip_id\")[\"length_m\"].sum().reset_index()\n",
    "res2 = mode.merge(length, on=\"trip_id\")\n",
    "# concat the results\n",
    "res = pd.concat([res1, res2])\n",
    "res.rename(columns={\"trip_id\": \"id\"}, inplace=True)\n",
    "res.set_index(\"id\", inplace=True)\n",
    "\n",
    "trips_with_main_mode = trips.join(res, how=\"left\")\n",
    "trips_with_main_mode = trips_with_main_mode[~trips_with_main_mode[\"mode\"].isna()]\n",
    "trips_with_main_mode_cate = get_mode_geolife(trips_with_main_mode)\n",
    "\n",
    "print(trips_with_main_mode_cate[\"mode\"].value_counts())\n",
    "\n",
    "# filter activity staypoints\n",
    "sp = sp.loc[sp[\"is_activity\"] == True].drop(columns=[\"is_activity\", \"trip_id\", \"next_trip_id\"])\n",
    "\n",
    "# generate locations\n",
    "sp, locs = sp.as_staypoints.generate_locations(\n",
    "    epsilon=epsilon, num_samples=2, distance_metric=\"haversine\", agg_level=\"dataset\", n_jobs=-1, print_progress=True\n",
    ")\n",
    "# filter noise staypoints\n",
    "valid_sp = sp.loc[~sp[\"location_id\"].isna()].copy()\n",
    "\n",
    "# save locations\n",
    "locs = locs[~locs.index.duplicated(keep=\"first\")]\n",
    "filtered_locs = locs.loc[locs.index.isin(sp[\"location_id\"].unique())]\n",
    "\n",
    "path = Path(os.path.join(\".\", \"data\"))\n",
    "if not os.path.exists(path):\n",
    "    os.makedirs(path)\n",
    "filtered_locs.as_locations.to_csv(os.path.join(\".\", \"data\", f\"locations_{dataset}.csv\"))\n",
    "\n",
    "# merge staypoint with trips info\n",
    "sp = valid_sp.loc[~valid_sp[\"prev_trip_id\"].isna()].reset_index().copy()\n",
    "trips = (\n",
    "    trips_with_main_mode_cate.drop(columns=[\"started_at\", \"finished_at\", \"user_id\"])\n",
    "    .reset_index()\n",
    "    .rename(columns={\"id\": \"trip_id\"})\n",
    "    .copy()\n",
    ")\n"
   ]
  }
 ],
 "metadata": {
  "kernelspec": {
   "display_name": "reprotrack",
   "language": "python",
   "name": "python3"
  },
  "language_info": {
   "codemirror_mode": {
    "name": "ipython",
    "version": 3
   },
   "file_extension": ".py",
   "mimetype": "text/x-python",
   "name": "python",
   "nbconvert_exporter": "python",
   "pygments_lexer": "ipython3",
   "version": "3.9.18"
  }
 },
 "nbformat": 4,
 "nbformat_minor": 2
}
