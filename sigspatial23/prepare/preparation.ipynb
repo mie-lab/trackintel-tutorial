{
 "cells": [
  {
   "cell_type": "code",
   "execution_count": 20,
   "metadata": {},
   "outputs": [],
   "source": [
    "import geopandas as gpd\n",
    "import pandas as pd\n",
    "import numpy as np\n",
    "\n",
    "import os\n",
    "import json\n",
    "import pickle as pickle\n",
    "\n",
    "import trackintel as ti\n",
    "from trackintel.io.dataset_reader import read_geolife, geolife_add_modes_to_triplegs\n",
    "from trackintel.analysis.tracking_quality import temporal_tracking_quality, _split_overlaps\n"
   ]
  },
  {
   "cell_type": "code",
   "execution_count": 21,
   "metadata": {},
   "outputs": [],
   "source": [
    "import matplotlib\n",
    "import matplotlib.pyplot as plt\n",
    "import matplotlib.dates as mdates\n",
    "\n",
    "\n",
    "colors = plt.rcParams[\"axes.prop_cycle\"].by_key()[\"color\"]\n",
    "\n",
    "matplotlib.rcParams[\"figure.dpi\"] = 300\n",
    "matplotlib.rcParams[\"xtick.labelsize\"] = 13\n",
    "matplotlib.rcParams[\"ytick.labelsize\"] = 13\n",
    "np.set_printoptions(precision=4)\n",
    "np.set_printoptions(suppress=True)\n",
    "\n",
    "%matplotlib inline"
   ]
  },
  {
   "cell_type": "code",
   "execution_count": 2,
   "metadata": {},
   "outputs": [
    {
     "name": "stdout",
     "output_type": "stream",
     "text": [
      "1.2.3\n"
     ]
    }
   ],
   "source": [
    "print(ti.__version__)"
   ]
  },
  {
   "cell_type": "markdown",
   "metadata": {},
   "source": [
    "# Load data"
   ]
  },
  {
   "cell_type": "code",
   "execution_count": 3,
   "metadata": {},
   "outputs": [],
   "source": [
    "DATA_DIR = os.path.join(\"..\", \"..\", \"paths.json\")\n",
    "with open(DATA_DIR) as json_file:\n",
    "    CONFIG = json.load(json_file)\n",
    "\n",
    "save_dir = os.path.join(\"..\", \"..\", CONFIG[\"data_dir\"])"
   ]
  },
  {
   "cell_type": "code",
   "execution_count": 4,
   "metadata": {},
   "outputs": [
    {
     "name": "stderr",
     "output_type": "stream",
     "text": [
      "100%|██████████| 182/182 [03:15<00:00,  1.07s/it]\n"
     ]
    }
   ],
   "source": [
    "## read\n",
    "pfs, mode_labels = read_geolife(os.path.join(\"..\", \"..\", CONFIG[\"data_dir\"], \"Data\"), print_progress=True)"
   ]
  },
  {
   "cell_type": "code",
   "execution_count": 5,
   "metadata": {},
   "outputs": [
    {
     "data": {
      "text/plain": [
       "dict_keys([10, 20, 21, 52, 53, 56, 58, 59, 60, 62, 64, 65, 67, 68, 69, 73, 75, 76, 78, 80, 81, 82, 84, 85, 86, 87, 88, 89, 91, 92, 96, 97, 98, 100, 101, 102, 104, 105, 106, 107, 108, 110, 111, 112, 114, 115, 116, 117, 118, 124, 125, 126, 128, 129, 136, 138, 139, 141, 144, 147, 153, 154, 161, 163, 167, 170, 174, 175, 179])"
      ]
     },
     "execution_count": 5,
     "metadata": {},
     "output_type": "execute_result"
    }
   ],
   "source": [
    "# mode_labels is a dictionary of pandas dataframes, with keys corresponding to the user id\n",
    "mode_labels.keys()"
   ]
  },
  {
   "cell_type": "markdown",
   "metadata": {},
   "source": [
    "# Identify users with high tracking quality (for tutorial)"
   ]
  },
  {
   "cell_type": "code",
   "execution_count": 6,
   "metadata": {},
   "outputs": [
    {
     "name": "stderr",
     "output_type": "stream",
     "text": [
      "c:\\ProgramData\\Anaconda3\\envs\\reprotrack\\lib\\site-packages\\trackintel\\preprocessing\\positionfixes.py:113: UserWarning: 146900 duplicates were dropped from your positionfixes. Dropping duplicates is recommended but can be prevented using the 'exclude_duplicate_pfs' flag.\n",
      "  warnings.warn(warn_str)\n",
      "100%|██████████| 182/182 [00:29<00:00,  6.07it/s]\n",
      "c:\\ProgramData\\Anaconda3\\envs\\reprotrack\\lib\\site-packages\\trackintel\\preprocessing\\positionfixes.py:508: UserWarning: The positionfixes with ids [ 2894106  2894107  3826247  3826248  6900863  6900864  6909024  6909025\n",
      "  7754881  7754882 11128882 11128883 11608868 11608869 14216369 14216370\n",
      " 14411384 14411385 15674472 15674473 16107062 16107063 16129188 16129189\n",
      " 16477191 16477192 17290728 17290729 19072462 19072463] lead to invalid tripleg geometries. The resulting triplegs were omitted and the tripleg id of the positionfixes was set to nan\n",
      "  warnings.warn(warn_string)\n"
     ]
    }
   ],
   "source": [
    "# generate staypoints\n",
    "pfs, sp = pfs.generate_staypoints(gap_threshold=24 * 60, include_last=True, print_progress=True, dist_threshold=200, time_threshold=30, n_jobs=-1)\n",
    "\n",
    "# create activity flag\n",
    "sp = sp.create_activity_flag(method=\"time_threshold\", time_threshold=25)\n",
    "\n",
    "# generate triplegs\n",
    "pfs, tpls = pfs.generate_triplegs(sp, gap_threshold=15, print_progress=True)\n",
    "\n",
    "# generate trips\n",
    "sp, tpls, trips = sp.generate_trips(tpls, add_geometry=False)"
   ]
  },
  {
   "cell_type": "code",
   "execution_count": 7,
   "metadata": {},
   "outputs": [
    {
     "name": "stdout",
     "output_type": "stream",
     "text": [
      "starting merge (28877, 9) (32970, 5)\n",
      "finished merge (69999, 13)\n",
      "**************************************************\n",
      "Total user number:  182\n"
     ]
    }
   ],
   "source": [
    "# prepare for calculating the tracking quality\n",
    "\n",
    "trips[\"started_at\"] = pd.to_datetime(trips[\"started_at\"]).dt.tz_localize(None)\n",
    "trips[\"finished_at\"] = pd.to_datetime(trips[\"finished_at\"]).dt.tz_localize(None)\n",
    "sp[\"started_at\"] = pd.to_datetime(sp[\"started_at\"]).dt.tz_localize(None)\n",
    "sp[\"finished_at\"] = pd.to_datetime(sp[\"finished_at\"]).dt.tz_localize(None)\n",
    "\n",
    "# merge trips and staypoints\n",
    "print(\"starting merge\", sp.shape, trips.shape)\n",
    "sp[\"type\"] = \"sp\"\n",
    "trips[\"type\"] = \"tpl\"\n",
    "df_all = pd.concat([sp, trips])\n",
    "df_all = _split_overlaps(df_all, granularity=\"day\")\n",
    "df_all[\"duration\"] = (df_all[\"finished_at\"] - df_all[\"started_at\"]).dt.total_seconds()\n",
    "print(\"finished merge\", df_all.shape)\n",
    "print(\"*\" * 50)\n",
    "\n",
    "print(\"Total user number: \", len(df_all[\"user_id\"].unique()))"
   ]
  },
  {
   "cell_type": "code",
   "execution_count": 8,
   "metadata": {},
   "outputs": [],
   "source": [
    "# get quality\n",
    "total_quality = temporal_tracking_quality(df_all, granularity=\"all\")\n",
    "# get tracking days\n",
    "total_quality[\"days\"] = (\n",
    "    df_all.groupby(\"user_id\").apply(lambda x: (x[\"finished_at\"].max() - x[\"started_at\"].min()).days).values\n",
    ")"
   ]
  },
  {
   "cell_type": "code",
   "execution_count": 9,
   "metadata": {},
   "outputs": [],
   "source": [
    "# filter users tracked for more than 20 days and shorter than 200 days, and select the top 20 users with the highest tracking quality\n",
    "\n",
    "selected_users = total_quality[(total_quality[\"days\"] > 20) & (total_quality[\"days\"] < 200)].sort_values(by=\"quality\", ascending=False).head(20).sort_values(by=\"user_id\")[\"user_id\"].values"
   ]
  },
  {
   "cell_type": "code",
   "execution_count": 10,
   "metadata": {},
   "outputs": [
    {
     "data": {
      "text/plain": [
       "array([  1,   2,   7,   9,  11,  12,  14,  16,  19,  20,  22,  30,  35,\n",
       "        39,  41, 103, 112, 113, 154, 169], dtype=int64)"
      ]
     },
     "execution_count": 10,
     "metadata": {},
     "output_type": "execute_result"
    }
   ],
   "source": [
    "selected_users"
   ]
  },
  {
   "cell_type": "markdown",
   "metadata": {},
   "source": [
    "## Select users from the original pfs and mode labels"
   ]
  },
  {
   "cell_type": "code",
   "execution_count": 11,
   "metadata": {},
   "outputs": [],
   "source": [
    "selected_pfs = pfs.loc[pfs[\"user_id\"].isin(selected_users)].drop(columns={\"elevation\", \"accuracy\"})\n",
    "\n",
    "selected_mode_labels = {}\n",
    "for key, value in mode_labels.items():\n",
    "    if key in selected_users:\n",
    "        selected_mode_labels[key] =  mode_labels[key]"
   ]
  },
  {
   "cell_type": "code",
   "execution_count": 12,
   "metadata": {},
   "outputs": [
    {
     "data": {
      "text/plain": [
       "(4394980, dict_keys([20, 112, 154]))"
      ]
     },
     "execution_count": 12,
     "metadata": {},
     "output_type": "execute_result"
    }
   ],
   "source": [
    "len(selected_pfs), selected_mode_labels.keys()"
   ]
  },
  {
   "cell_type": "markdown",
   "metadata": {},
   "source": [
    "## Save to disc"
   ]
  },
  {
   "cell_type": "code",
   "execution_count": 14,
   "metadata": {},
   "outputs": [],
   "source": [
    "# save pfs\n",
    "# selected_pfs.to_csv(os.path.join(save_dir, \"selected_geolife_pfs.csv\"))"
   ]
  },
  {
   "cell_type": "code",
   "execution_count": 15,
   "metadata": {},
   "outputs": [],
   "source": [
    "# save mode labels\n",
    "# with open(os.path.join(save_dir, \"selected_mode_labels.pk\"), \"wb\") as handle:\n",
    "#     pickle.dump(selected_mode_labels, handle, protocol=pickle.HIGHEST_PROTOCOL)"
   ]
  },
  {
   "cell_type": "markdown",
   "metadata": {},
   "source": [
    "# Check for tracking quality\n",
    "## Read files"
   ]
  },
  {
   "cell_type": "code",
   "execution_count": 13,
   "metadata": {},
   "outputs": [],
   "source": [
    "selected_pfs = ti.read_positionfixes_csv(os.path.join(save_dir, \"selected_geolife_pfs.csv\"), index_col=\"id\")\n",
    "selected_mode_labels = pickle.load(open(os.path.join(save_dir, \"selected_mode_labels.pk\"), \"rb\"))"
   ]
  },
  {
   "cell_type": "code",
   "execution_count": 14,
   "metadata": {},
   "outputs": [
    {
     "data": {
      "text/plain": [
       "(4396670, dict_keys([20, 112, 154]))"
      ]
     },
     "execution_count": 14,
     "metadata": {},
     "output_type": "execute_result"
    }
   ],
   "source": [
    "# validate\n",
    "len(selected_pfs), selected_mode_labels.keys()"
   ]
  },
  {
   "cell_type": "markdown",
   "metadata": {},
   "source": [
    "## Generate staypoints and trips "
   ]
  },
  {
   "cell_type": "code",
   "execution_count": 15,
   "metadata": {},
   "outputs": [
    {
     "name": "stderr",
     "output_type": "stream",
     "text": [
      "c:\\ProgramData\\Anaconda3\\envs\\reprotrack\\lib\\site-packages\\trackintel\\preprocessing\\positionfixes.py:113: UserWarning: 1690 duplicates were dropped from your positionfixes. Dropping duplicates is recommended but can be prevented using the 'exclude_duplicate_pfs' flag.\n",
      "  warnings.warn(warn_str)\n",
      "100%|██████████| 20/20 [00:00<00:00, 42.67it/s]\n",
      "c:\\ProgramData\\Anaconda3\\envs\\reprotrack\\lib\\site-packages\\trackintel\\preprocessing\\positionfixes.py:508: UserWarning: The positionfixes with ids [2894106 2894107 3826247 3826248] lead to invalid tripleg geometries. The resulting triplegs were omitted and the tripleg id of the positionfixes was set to nan\n",
      "  warnings.warn(warn_string)\n"
     ]
    }
   ],
   "source": [
    "# generate staypoints, triplegs and trips\n",
    "pfs, sp = selected_pfs.generate_staypoints(gap_threshold=24 * 60, include_last=True, print_progress=True, dist_threshold=200, time_threshold=30, n_jobs=-1)\n",
    "\n",
    "# create activity flag\n",
    "sp = sp.create_activity_flag(method=\"time_threshold\", time_threshold=25)\n",
    "\n",
    "# generate triplegs\n",
    "pfs, tpls = pfs.generate_triplegs(sp, gap_threshold=15, print_progress=True)\n",
    "\n",
    "# generate trips\n",
    "sp, tpls, trips = sp.generate_trips(tpls, add_geometry=False)"
   ]
  },
  {
   "cell_type": "markdown",
   "metadata": {},
   "source": [
    "## Calculate tracking quality"
   ]
  },
  {
   "cell_type": "code",
   "execution_count": 16,
   "metadata": {},
   "outputs": [
    {
     "name": "stdout",
     "output_type": "stream",
     "text": [
      "starting merge (5182, 8) (5531, 5)\n",
      "finished merge (11985, 12)\n",
      "**************************************************\n",
      "Total user number:  20\n"
     ]
    }
   ],
   "source": [
    "# prepare for calculating the tracking quality\n",
    "\n",
    "trips[\"started_at\"] = pd.to_datetime(trips[\"started_at\"]).dt.tz_localize(None)\n",
    "trips[\"finished_at\"] = pd.to_datetime(trips[\"finished_at\"]).dt.tz_localize(None)\n",
    "sp[\"started_at\"] = pd.to_datetime(sp[\"started_at\"]).dt.tz_localize(None)\n",
    "sp[\"finished_at\"] = pd.to_datetime(sp[\"finished_at\"]).dt.tz_localize(None)\n",
    "\n",
    "# merge trips and staypoints\n",
    "print(\"starting merge\", sp.shape, trips.shape)\n",
    "sp[\"type\"] = \"sp\"\n",
    "trips[\"type\"] = \"tpl\"\n",
    "df_all = pd.concat([sp, trips])\n",
    "df_all = _split_overlaps(df_all, granularity=\"day\")\n",
    "df_all[\"duration\"] = (df_all[\"finished_at\"] - df_all[\"started_at\"]).dt.total_seconds()\n",
    "print(\"finished merge\", df_all.shape)\n",
    "print(\"*\" * 50)\n",
    "\n",
    "print(\"Total user number: \", len(df_all[\"user_id\"].unique()))"
   ]
  },
  {
   "cell_type": "code",
   "execution_count": 17,
   "metadata": {},
   "outputs": [],
   "source": [
    "# get quality\n",
    "total_quality = temporal_tracking_quality(df_all, granularity=\"all\")"
   ]
  },
  {
   "cell_type": "code",
   "execution_count": 22,
   "metadata": {},
   "outputs": [
    {
     "data": {
      "image/png": "[encoded data removed]",
      "text/plain": [
       "<Figure size 2400x1800 with 1 Axes>"
      ]
     },
     "metadata": {},
     "output_type": "display_data"
    }
   ],
   "source": [
    "boxplot = total_quality.boxplot(column=\"quality\", figsize=(8, 6))\n",
    "\n",
    "boxplot.set_xticklabels([])\n",
    "\n",
    "plt.xlabel(\"Tracking quality\", fontsize=16)\n",
    "plt.ylabel(\"Proportion\", fontsize=16)\n",
    "plt.show()"
   ]
  },
  {
   "cell_type": "code",
   "execution_count": null,
   "metadata": {},
   "outputs": [],
   "source": []
  }
 ],
 "metadata": {
  "kernelspec": {
   "display_name": "Python 3.9.18 ('reprotrack')",
   "language": "python",
   "name": "python3"
  },
  "language_info": {
   "codemirror_mode": {
    "name": "ipython",
    "version": 3
   },
   "file_extension": ".py",
   "mimetype": "text/x-python",
   "name": "python",
   "nbconvert_exporter": "python",
   "pygments_lexer": "ipython3",
   "version": "3.9.18"
  },
  "vscode": {
   "interpreter": {
    "hash": "9597c3010ccf3b8705a75eca2c37e93b64c1720a9347287e0e23a990d1a82733"
   }
  }
 },
 "nbformat": 4,
 "nbformat_minor": 2
}
