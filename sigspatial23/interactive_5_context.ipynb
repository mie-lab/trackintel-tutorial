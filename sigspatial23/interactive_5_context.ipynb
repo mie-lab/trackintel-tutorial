{
 "cells": [
  {
   "cell_type": "markdown",
   "metadata": {},
   "source": [
    "# Import dependencies and libraries"
   ]
  },
  {
   "cell_type": "code",
   "execution_count": null,
   "metadata": {},
   "outputs": [],
   "source": [
    "import os\n",
    "import json\n",
    "import pickle as pickle\n",
    "\n",
    "import geopandas as gpd\n",
    "import numpy as np\n",
    "\n",
    "# for fetching osm data\n",
    "import osmnx as ox\n",
    "\n",
    "# for visualization\n",
    "import matplotlib\n",
    "import matplotlib.pyplot as plt\n",
    "\n",
    "# trackintel -> the functions will be imported with full names\n",
    "import trackintel as ti\n"
   ]
  },
  {
   "cell_type": "code",
   "execution_count": null,
   "metadata": {},
   "outputs": [],
   "source": [
    "# options for better printing and visualizing\n",
    "\n",
    "colors = plt.rcParams[\"axes.prop_cycle\"].by_key()[\"color\"]\n",
    "\n",
    "matplotlib.rcParams[\"figure.dpi\"] = 300\n",
    "matplotlib.rcParams[\"xtick.labelsize\"] = 13\n",
    "matplotlib.rcParams[\"ytick.labelsize\"] = 13\n",
    "np.set_printoptions(precision=4)\n",
    "np.set_printoptions(suppress=True)\n",
    "\n",
    "%matplotlib inline"
   ]
  },
  {
   "cell_type": "code",
   "execution_count": null,
   "metadata": {},
   "outputs": [],
   "source": [
    "# get the data dir from the config file -> default stored in Data/Geolife/Data folder\n",
    "\n",
    "DATA_DIR = os.path.join(\"..\", \"paths.json\")\n",
    "with open(DATA_DIR) as json_file:\n",
    "    CONFIG = json.load(json_file)\n",
    "\n",
    "save_dir = os.path.join(\"..\", CONFIG[\"data_dir\"])"
   ]
  },
  {
   "cell_type": "markdown",
   "metadata": {},
   "source": [
    "# Load Geolife data\n",
    "Trackintel provides a function [read_geolife](https://trackintel.readthedocs.io/en/latest/modules/io.html#trackintel.io.read_geolife) to directly load [Geolife](https://www.microsoft.com/en-us/research/publication/geolife-gps-trajectory-dataset-user-guide/) dataset into the trackintel positionfixes. For the tutorial and interactive section, we provided you a sample dataset with 20 selected users from the geolife dataset. This can be directly loaded from the `save_dir`. "
   ]
  },
  {
   "cell_type": "code",
   "execution_count": null,
   "metadata": {},
   "outputs": [],
   "source": [
    "\n",
    "pfs, mode_labels = ti.io.read_geolife(save_dir, print_progress=True)"
   ]
  },
  {
   "cell_type": "markdown",
   "metadata": {},
   "source": [
    "## Reading your own data\n",
    "Trackintel provides an I/O module for accessing movement data and storing intermediate or final results in a file or database. Three methods for converting movement data with attached attribute information to Trackintel-compatible formats are provided:\n",
    "1) reading from Pandas Dataframes and Geopandas Geodataframes (**recommended**)\n",
    "2) reading and writing from CSV file formats\n",
    "3) reading and storing from PostgreSQL databases with PostGIS extension. Check the [input/output](https://trackintel.readthedocs.io/en/latest/modules/io.html) module for more information. \n",
    "\n",
    "An important consideration before loading data is to find the appropriate movement level for your data. Depending on the semantics of the data, you should call different reading functions, e.g., [read_positionfixes_csv](https://trackintel.readthedocs.io/en/latest/modules/io.html#trackintel.io.read_positionfixes_csv) or [read_staypoints_csv](https://trackintel.readthedocs.io/en/latest/modules/io.html#trackintel.io.read_staypoints_csv). We provide a reference of the different data types in the figure below:\n",
    "\n",
    "![Trackintel data support](prepare/trackintel_structure.png)"
   ]
  },
  {
   "cell_type": "code",
   "execution_count": null,
   "metadata": {},
   "outputs": [],
   "source": [
    "# TODO: use ti.read_positionfixes_csv() or ti.read_staypoints_csv() for loading your data. Check the documentation for the required input parameters\n",
    "# selected_pfs = ti.read_positionfixes_csv()"
   ]
  },
  {
   "cell_type": "markdown",
   "metadata": {},
   "source": [
    "# Trajectory context integration with OSM data\n",
    "\n",
    "Desired outcome with geolife sample data, where the x-axis is the location ids and the y-axis shows the frequency of observing a particular POI in its proximity:\n",
    "\n",
    "![Context integration results](prepare/context.png)"
   ]
  },
  {
   "cell_type": "markdown",
   "metadata": {},
   "source": [
    "## Generate staypoints and locations\n",
    "Activity staypoints represent individual visits to places that are significant to the visitor. Trackintel models these significant places using the *location* class to enable the characterization of the place that is visited. While the information attached to staypoints is bound to the individual visit (e.g., the specific activity or the time of day), the semantics of locations are related to the place independent of the visit (e. g., land use or the opening hours of a shop). Therefore, we use location data to integrate with the POI context. This requires the functions [generate_staypoints](https://trackintel.readthedocs.io/en/latest/modules/preprocessing.html#trackintel.preprocessing.generate_staypoints) and [generate_locations](https://trackintel.readthedocs.io/en/latest/modules/preprocessing.html#trackintel.preprocessing.generate_locations)."
   ]
  },
  {
   "cell_type": "code",
   "execution_count": null,
   "metadata": {},
   "outputs": [],
   "source": [
    "# TODO: generate staypoints with generate_staypoints()\n",
    "pfs, sp = pfs.generate_staypoints(...)\n",
    "\n",
    "# create activity flag based on duration\n",
    "sp = sp.create_activity_flag(method=\"time_threshold\", time_threshold=25)\n",
    "\n",
    "# generate locations\n",
    "## filter activity staypoints\n",
    "sp = sp.loc[sp[\"is_activity\"] == True]\n",
    "\n",
    "# TODO: generate locations with generate_locations()\n",
    "sp, locs = sp.generate_locations(...)"
   ]
  },
  {
   "cell_type": "code",
   "execution_count": null,
   "metadata": {},
   "outputs": [],
   "source": [
    "# TODO: inspect locations with .head(), .columns\n",
    "# locs.head()"
   ]
  },
  {
   "cell_type": "markdown",
   "metadata": {},
   "source": [
    "## Extract POI from OSM and link with locations\n",
    "\n",
    "We can make certain statements about the reason for a trip if we know what is in the area at the destination. For example, it makes sense that we go to a university district to study, to a residential area when we go home, or to an area with many restaurants and bars to meet friends.\n",
    "\n",
    "### POI from OSM\n",
    "\n",
    "Following this intuition, we extract POIs from OpenStreetMap and link them spatially with the locations. First we define a filter, defining that OSM objects with the attribute `amenity` or `shop` are extracted from the OSM data set. These tags are very widespread in the OSM data because they describe various objects in a relatively general way. You can find out more about the OSM tags at https://wiki.openstreetmap.org/wiki/DE:Key:amenity and https://taginfo.openstreetmap.org.\n",
    "\n",
    "We use the library `osmnx` to download the newest osm data from the internet and extract certain subsets of the data as GeoDataFrame. `osmnx` is an open-source library that provides support for working with OpenStreetMap data. It enables straightforward fetching of OSM data and is still actively maintained by a group of GIS enthusiasts. Checkout the library [homepage](https://osmnx.readthedocs.io/en/stable/getting-started.html) and its [examples](https://github.com/gboeing/osmnx-examples/tree/main/notebooks).\n",
    "\n",
    "Here we define the filter below for the POIs for you."
   ]
  },
  {
   "cell_type": "code",
   "execution_count": null,
   "metadata": {},
   "outputs": [],
   "source": [
    "custom_filter = {'amenity': True, 'shop': True}\n",
    "\n",
    "# apply the filter\n",
    "pois = ox.features_from_bbox(40.0920, 39.8594, 116.4410, 116.1152, custom_filter)\n",
    "\n",
    "# we now want the 'node' types\n",
    "pois = pois.iloc[pois.index.get_level_values('element_type') == \"node\"]\n",
    "\n",
    "pois.shape"
   ]
  },
  {
   "cell_type": "markdown",
   "metadata": {},
   "source": [
    "Use the function `explore`, which is provided by the `geopandas` library for `GeoDataFrames`."
   ]
  },
  {
   "cell_type": "code",
   "execution_count": null,
   "metadata": {},
   "outputs": [],
   "source": [
    "pois.explore()"
   ]
  },
  {
   "cell_type": "markdown",
   "metadata": {},
   "source": [
    "We can now display this data on a map and inspect it again with `.head (...)`."
   ]
  },
  {
   "cell_type": "code",
   "execution_count": null,
   "metadata": {},
   "outputs": [],
   "source": [
    "# Gather info about POI type (combines the tag info from \"amenity\" and \"shop\").\n",
    "pois[\"poi_type\"] = pois[\"amenity\"]\n",
    "pois[\"poi_type\"] = pois[\"poi_type\"].fillna(pois[\"shop\"])\n",
    "\n",
    "# plot\n",
    "ax = pois.plot(column='poi_type', markersize=3, figsize=(12,12), legend=True, legend_kwds=dict(loc='upper left', ncol=5, bbox_to_anchor=(1, 1)))\n",
    "plt.show()"
   ]
  },
  {
   "cell_type": "code",
   "execution_count": null,
   "metadata": {},
   "outputs": [],
   "source": [
    "# Inspect the DataFrame using .head(...), .columns, etc.\n",
    "pois.columns"
   ]
  },
  {
   "cell_type": "markdown",
   "metadata": {},
   "source": [
    "### Conversion to projected coordinate system, buffering and spatial join\n",
    "\n",
    "In the next step, we want to change the coordinate system from WGS 1984 to EPSG:4479, as the latter allows us to quantify distances in meters. `geopandas` offers the function `.to_crs(...)` for this operation. Then create a buffer around the sample points with the function `.buffer(dist)` and use the `gpd.sjoin(...)` function to perform a spatial join between the buffered sample points and the POI. Look at the data with `.head(...)` and check if the results make sense."
   ]
  },
  {
   "cell_type": "code",
   "execution_count": null,
   "metadata": {},
   "outputs": [],
   "source": [
    "# Create buffer around locations. \n",
    "# TODO: define a buffer size, remember the unit is meters in projected coordinate systems \n",
    "epsilon = ...\n",
    "\n",
    "\n",
    "# project the data into the coordinate system EPSG:4479.\n",
    "locs_4479 = gpd.GeoDataFrame(locs.drop(columns=\"center\"), crs=\"EPSG:4326\", geometry=\"extent\")\n",
    "locs_4479 = locs_4479.to_crs('EPSG:4479')\n",
    "pois_4479 = pois.to_crs('EPSG:4479')\n",
    "\n",
    "locs_buffer = locs_4479.copy()\n",
    "\n",
    "# Create a buffer around the locations.\n",
    "locs_buffer['extent'] = locs_4479.buffer(epsilon)\n",
    "\n",
    "\n",
    "# TODO: Join the two GeoDataFrames using geopanda's sjoin function (use how='left').\n",
    "locs_pois = gpd.sjoin(...).reset_index()\n"
   ]
  },
  {
   "cell_type": "code",
   "execution_count": null,
   "metadata": {},
   "outputs": [],
   "source": [
    "# examine locations\n",
    "locs_pois.head(3)"
   ]
  },
  {
   "cell_type": "markdown",
   "metadata": {},
   "source": [
    "We can now count how often a certain type of POI has occurred in the vicinity of a location and draw this in a figure. Attention: We only plot the first 20 locations for simplicity."
   ]
  },
  {
   "cell_type": "code",
   "execution_count": null,
   "metadata": {},
   "outputs": [],
   "source": [
    "poi_types_per_loc = locs_pois.groupby(['id', 'poi_type'])['id'].count().unstack('poi_type').head(20)\n",
    "poi_types_per_loc.plot(kind='bar', stacked=True, figsize=(12, 8))\n",
    "plt.legend(ncol=3, loc='center left', bbox_to_anchor=(1.04, 0.5))\n",
    "plt.show()"
   ]
  },
  {
   "cell_type": "code",
   "execution_count": null,
   "metadata": {},
   "outputs": [],
   "source": []
  }
 ],
 "metadata": {
  "kernelspec": {
   "display_name": "Python 3 (ipykernel)",
   "language": "python",
   "name": "python3"
  },
  "language_info": {
   "codemirror_mode": {
    "name": "ipython",
    "version": 3
   },
   "file_extension": ".py",
   "mimetype": "text/x-python",
   "name": "python",
   "nbconvert_exporter": "python",
   "pygments_lexer": "ipython3",
   "version": "3.9.18"
  },
  "vscode": {
   "interpreter": {
    "hash": "9597c3010ccf3b8705a75eca2c37e93b64c1720a9347287e0e23a990d1a82733"
   }
  }
 },
 "nbformat": 4,
 "nbformat_minor": 4
}
