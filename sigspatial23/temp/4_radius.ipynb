{
 "cells": [
  {
   "cell_type": "markdown",
   "metadata": {},
   "source": [
    "# Import dependencies and libraries"
   ]
  },
  {
   "cell_type": "code",
   "execution_count": null,
   "metadata": {},
   "outputs": [],
   "source": [
    "import os\n",
    "import json\n",
    "import pickle as pickle\n",
    "import numpy as np\n",
    "\n",
    "# for fitting empirical distributions for radius of gyration and jump length\n",
    "import powerlaw\n",
    "\n",
    "# for visualization\n",
    "import matplotlib\n",
    "import matplotlib.pyplot as plt\n",
    "\n",
    "# trackintel -> the functions will be imported with full names\n",
    "import trackintel as ti\n"
   ]
  },
  {
   "cell_type": "code",
   "execution_count": null,
   "metadata": {},
   "outputs": [],
   "source": [
    "# options for better printing and visualizing\n",
    "\n",
    "colors = plt.rcParams[\"axes.prop_cycle\"].by_key()[\"color\"]\n",
    "\n",
    "matplotlib.rcParams[\"figure.dpi\"] = 300\n",
    "matplotlib.rcParams[\"xtick.labelsize\"] = 13\n",
    "matplotlib.rcParams[\"ytick.labelsize\"] = 13\n",
    "np.set_printoptions(precision=4)\n",
    "np.set_printoptions(suppress=True)\n",
    "\n",
    "%matplotlib inline"
   ]
  },
  {
   "cell_type": "code",
   "execution_count": null,
   "metadata": {},
   "outputs": [],
   "source": [
    "# get the data dir from the config file -> default stored in Data/Geolife/Data folder\n",
    "\n",
    "DATA_DIR = os.path.join(\"..\", \"paths.json\")\n",
    "with open(DATA_DIR) as json_file:\n",
    "    CONFIG = json.load(json_file)\n",
    "\n",
    "save_dir = os.path.join(\"..\", CONFIG[\"data_dir\"])"
   ]
  },
  {
   "cell_type": "markdown",
   "metadata": {},
   "source": [
    "# Load Geolife data\n",
    "Trackintel provides a function [read_geolife](https://trackintel.readthedocs.io/en/latest/modules/io.html#trackintel.io.read_geolife) to directly load [Geolife](https://www.microsoft.com/en-us/research/publication/geolife-gps-trajectory-dataset-user-guide/) dataset into the trackintel positionfixes. For the tutorial and interactive section, we provided you a sample dataset with 20 selected users from the geolife dataset. This can be directly loaded from the `save_dir`. "
   ]
  },
  {
   "cell_type": "code",
   "execution_count": null,
   "metadata": {},
   "outputs": [],
   "source": [
    "\n",
    "pfs, mode_labels = ti.io.read_geolife(save_dir, print_progress=True)"
   ]
  },
  {
   "cell_type": "markdown",
   "metadata": {},
   "source": [
    "## Reading your own data\n",
    "Trackintel provides an I/O module for accessing movement data and storing intermediate or final results in a file or database. Three methods for converting movement data with attached attribute information to Trackintel-compatible formats are provided:\n",
    "1) reading from Pandas Dataframes and Geopandas Geodataframes (**recommended**)\n",
    "2) reading and writing from CSV file formats\n",
    "3) reading and storing from PostgreSQL databases with PostGIS extension. Check the [input/output](https://trackintel.readthedocs.io/en/latest/modules/io.html) module for more information. \n",
    "\n",
    "An important consideration before loading data is to find the appropriate movement level for your data. Depending on the semantics of the data, you should call different reading functions, e.g., [read_positionfixes_csv](https://trackintel.readthedocs.io/en/latest/modules/io.html#trackintel.io.read_positionfixes_csv) or [read_staypoints_csv](https://trackintel.readthedocs.io/en/latest/modules/io.html#trackintel.io.read_staypoints_csv). \n",
    "\n"
   ]
  },
  {
   "cell_type": "code",
   "execution_count": null,
   "metadata": {},
   "outputs": [],
   "source": [
    "# TODO: use ti.read_positionfixes_csv() or ti.read_staypoints_csv() for loading your data. Check the documentation for the required input parameters\n",
    "# selected_pfs = ti.read_positionfixes_csv()"
   ]
  },
  {
   "cell_type": "markdown",
   "metadata": {},
   "source": [
    "# Calculate Radius of Gyration"
   ]
  },
  {
   "cell_type": "markdown",
   "metadata": {},
   "source": [
    "## Generate staypoints\n",
    "Radius of gyration calculates the characteristic distance traveled by individuals from a set of stop points, which corresponds to the staypoint data model in trackintel. The first step is thus to generate the staypoints from the original positionfixes with the trackintel [generate_staypoints](https://trackintel.readthedocs.io/en/latest/modules/preprocessing.html#trackintel.preprocessing.generate_staypoints) function."
   ]
  },
  {
   "cell_type": "code",
   "execution_count": null,
   "metadata": {},
   "outputs": [],
   "source": [
    "pfs, sp = pfs.generate_staypoints(gap_threshold=24 * 60, include_last=True, print_progress=True, dist_threshold=200, time_threshold=30, n_jobs=-1)"
   ]
  },
  {
   "cell_type": "markdown",
   "metadata": {},
   "source": [
    "## Calculate radius of gyration with trackintel functions\n",
    "Trackintel provides the function [ti.analysis.radius_gyration](https://trackintel.readthedocs.io/en/latest/modules/analysis.html#trackintel.analysis.radius_gyration) to calculate user level radius of gyration from staypoints. The function supports weighting the staypoints with their stayed duration during calculation, such that important locations (i.e., locations stayed longer; home or work) receive higher weights."
   ]
  },
  {
   "cell_type": "code",
   "execution_count": null,
   "metadata": {},
   "outputs": [],
   "source": [
    "rg_count = ti.analysis.radius_gyration(sp, method=\"count\")"
   ]
  },
  {
   "cell_type": "code",
   "execution_count": null,
   "metadata": {},
   "outputs": [],
   "source": [
    "sp[\"duration\"] = (sp[\"finished_at\"] - sp[\"started_at\"])\n",
    "rg_duration = ti.analysis.radius_gyration(sp, method=\"duration\")"
   ]
  },
  {
   "cell_type": "code",
   "execution_count": null,
   "metadata": {},
   "outputs": [],
   "source": [
    "# check the results\n",
    "rg_duration"
   ]
  },
  {
   "cell_type": "markdown",
   "metadata": {},
   "source": [
    "## Visualize with powerlaw package\n",
    "The [powerlaw](https://github.com/jeffalstott/powerlaw) package provides functionalities to fit power-law, truncated power law, and log normal distributions to the original data. It also provides functionalities to plot all the fitted distributions on the same plot. We use the powerlaw package to visualize the radius of calculation result. "
   ]
  },
  {
   "cell_type": "code",
   "execution_count": null,
   "metadata": {},
   "outputs": [],
   "source": [
    "plt.figure(figsize=(8, 5))\n",
    "\n",
    "\n",
    "# fit power law\n",
    "xmin = 100\n",
    "fit = powerlaw.Fit(rg_duration, xmin=xmin)\n",
    "\n",
    "# plotting\n",
    "powerlaw.plot_pdf(rg_count, label=\"count\")\n",
    "powerlaw.plot_pdf(rg_duration, label=\"duration\")\n",
    "fit.power_law.plot_pdf(linestyle=\"--\", label=\"powerlaw fit of duration\")\n",
    "fit.truncated_power_law.plot_pdf(linestyle=\"--\", label=\"truncated power law of duration\")\n",
    "fit.lognormal.plot_pdf(linestyle=\"--\", label=\"lognormal fit of duration\")\n",
    "\n",
    "xlabel = \"$Rg$ (m)\"\n",
    "ylabel = \"$P(Rg)$\"\n",
    "\n",
    "plt.legend(prop={\"size\": 13})\n",
    "plt.xlabel(xlabel, fontsize=16)\n",
    "plt.ylabel(ylabel, fontsize=16)\n",
    "\n",
    "plt.show()\n"
   ]
  }
 ],
 "metadata": {
  "kernelspec": {
   "display_name": "Python 3 (ipykernel)",
   "language": "python",
   "name": "python3"
  },
  "language_info": {
   "codemirror_mode": {
    "name": "ipython",
    "version": 3
   },
   "file_extension": ".py",
   "mimetype": "text/x-python",
   "name": "python",
   "nbconvert_exporter": "python",
   "pygments_lexer": "ipython3",
   "version": "3.9.18"
  },
  "vscode": {
   "interpreter": {
    "hash": "9597c3010ccf3b8705a75eca2c37e93b64c1720a9347287e0e23a990d1a82733"
   }
  }
 },
 "nbformat": 4,
 "nbformat_minor": 4
}
