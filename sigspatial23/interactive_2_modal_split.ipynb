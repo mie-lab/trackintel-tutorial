{
 "cells": [
  {
   "cell_type": "markdown",
   "metadata": {},
   "source": [
    "# Reprotrack interactive session - Travel mode split\n",
    "\n",
    "Travel mode choices are formed due to the everyday needs and constraints\n",
    " of individuals and are influenced by travel-related factors such as \n",
    "cost, time, accessibility, and comfort. It is, therefore, not uncommon \n",
    "for mobility systems to be evaluated and compared based on the current \n",
    "modal splits of the overall population. Trackintel provides a series of \n",
    "travel mode related functions to assist in mode analysis of individual movement. \n",
    "\n"
   ]
  },
  {
   "cell_type": "markdown",
   "metadata": {},
   "source": [
    "### Import dependencies and libraries"
   ]
  },
  {
   "cell_type": "code",
   "execution_count": null,
   "metadata": {},
   "outputs": [],
   "source": [
    "import os\n",
    "import json\n",
    "import pickle as pickle\n",
    "\n",
    "import geopandas as gpd\n",
    "import pandas as pd\n",
    "import numpy as np\n",
    "\n",
    "# for fetching osm data\n",
    "import osmnx as ox\n",
    "\n",
    "# for visualization\n",
    "import matplotlib\n",
    "import matplotlib.pyplot as plt\n",
    "import matplotlib.dates as mdates\n",
    "\n",
    "# trackintel -> the functions will be imported with full names\n",
    "import trackintel as ti\n"
   ]
  },
  {
   "cell_type": "code",
   "execution_count": null,
   "metadata": {},
   "outputs": [],
   "source": [
    "# options for better printing and visualizing\n",
    "\n",
    "colors = plt.rcParams[\"axes.prop_cycle\"].by_key()[\"color\"]\n",
    "\n",
    "matplotlib.rcParams[\"figure.dpi\"] = 300\n",
    "matplotlib.rcParams[\"xtick.labelsize\"] = 13\n",
    "matplotlib.rcParams[\"ytick.labelsize\"] = 13\n",
    "np.set_printoptions(precision=4)\n",
    "np.set_printoptions(suppress=True)\n",
    "\n",
    "%matplotlib inline"
   ]
  },
  {
   "cell_type": "code",
   "execution_count": null,
   "metadata": {},
   "outputs": [],
   "source": [
    "# get the data dir from the config file -> default stored in Data/Geolife/Data folder\n",
    "\n",
    "DATA_DIR = os.path.join(\"..\", \"paths.json\")\n",
    "with open(DATA_DIR) as json_file:\n",
    "    CONFIG = json.load(json_file)\n",
    "\n",
    "save_dir = os.path.join(\"..\", CONFIG[\"data_dir\"])"
   ]
  },
  {
   "cell_type": "markdown",
   "metadata": {},
   "source": [
    "# Load Geolife data\n",
    "You can use your own dataset (see instructions below), or work with the Geolife dataset. In the latter case, Trackintel provides a function [read_geolife](https://trackintel.readthedocs.io/en/latest/modules/io.html#trackintel.io.read_geolife) to directly load [Geolife](https://www.microsoft.com/en-us/research/publication/geolife-gps-trajectory-dataset-user-guide/) dataset into the trackintel positionfixes. For the tutorial and interactive section, we provided you a sample dataset with 20 selected users from the geolife dataset. This can be directly loaded from the `save_dir`. "
   ]
  },
  {
   "cell_type": "code",
   "execution_count": null,
   "metadata": {},
   "outputs": [],
   "source": [
    "\n",
    "pfs, mode_labels = ti.io.read_geolife(save_dir, print_progress=True)"
   ]
  },
  {
   "cell_type": "markdown",
   "metadata": {},
   "source": [
    "## Reading your own data\n",
    "Trackintel provides an I/O module for accessing movement data and storing intermediate or final results in a file or database. Three methods for converting movement data with attached attribute information to Trackintel-compatible formats are provided:\n",
    "1) reading from Pandas Dataframes and Geopandas Geodataframes (**recommended**)\n",
    "2) reading and writing from CSV file formats\n",
    "3) reading and storing from PostgreSQL databases with PostGIS extension. Check the [input/output](https://trackintel.readthedocs.io/en/latest/modules/io.html) module for more information. \n",
    "\n",
    "An important consideration before loading data is to find the appropriate movement level for your data. Depending on the semantics of the data, you should call different reading functions, e.g., [read_positionfixes_csv](https://trackintel.readthedocs.io/en/latest/modules/io.html#trackintel.io.read_positionfixes_csv) or [read_staypoints_csv](https://trackintel.readthedocs.io/en/latest/modules/io.html#trackintel.io.read_staypoints_csv). We provide a reference of the different data types in the figure below:\n",
    "\n",
    "![Trackintel data support](prepare/trackintel_structure.png)"
   ]
  },
  {
   "cell_type": "code",
   "execution_count": null,
   "metadata": {},
   "outputs": [],
   "source": [
    "# TODO: use ti.read_positionfixes_csv() or ti.read_staypoints_csv() for loading your data. Check the documentation for the required input parameters\n",
    "# selected_pfs = ti.read_positionfixes_csv()"
   ]
  },
  {
   "cell_type": "markdown",
   "metadata": {},
   "source": [
    "### Task 1: Generate triplegs\n",
    "\n",
    "To compute a mode split, we first need to generate triplegs. For some datasets, you might have triplegs already and can load them directly with `ti.read_triplegs_csv`. Otherwise, we need to generate them with the `generate_staypoints` and `generate_triplegs` functions in Trackintel:\n"
   ]
  },
  {
   "cell_type": "code",
   "execution_count": null,
   "metadata": {},
   "outputs": [],
   "source": [
    "# TODO: generate staypoints and triplegs\n"
   ]
  },
  {
   "cell_type": "markdown",
   "metadata": {},
   "source": [
    "## Task 2: Add existing mode labels\n",
    "\n",
    "If the transport mode is known in your dataset, we want to add this information to the triplegs GeoDataFrame with the attribute name `mode`. For Geolife, the labels can be attached using the Trackintel function [geolife_add_modes_to_triplegs](https://trackintel.readthedocs.io/en/latest/modules/io.html#trackintel.io.geolife_add_modes_to_triplegs). If you check out the documentation of the [read_geolife](https://trackintel.readthedocs.io/en/latest/modules/io.html#trackintel.io.read_geolife) function that we used above, you can see that this function returns a dictionary `mode_labels`. This dictionary can be used in the `geolife_add_to_triplegs` function.\n"
   ]
  },
  {
   "cell_type": "code",
   "execution_count": null,
   "metadata": {},
   "outputs": [],
   "source": [
    "# TODO: assign the true mode labels to triplegs, with the help of trackintel functions \n"
   ]
  },
  {
   "cell_type": "markdown",
   "metadata": {},
   "source": [
    "## Task 3: Check for missing values\n",
    "\n",
    "In Geolife, some triplegs have labelled modes, but many are still unknown. Print the ratio of missing values in the `mode` column (if there are no mode labels available for your dataset, this would be 100%)."
   ]
  },
  {
   "cell_type": "code",
   "execution_count": null,
   "metadata": {},
   "outputs": [],
   "source": [
    "# TODO: check how many missing values are in the mode column\n"
   ]
  },
  {
   "cell_type": "markdown",
   "metadata": {},
   "source": [
    "## Task 4: Impute missing values\n",
    "\n",
    "We now want to use the Trackintel function [predict_transport_mode](geolife_add_modes_to_triplegs) to impute missing mode labels. This function is simply based on the average speed of a tripleg. Use the function to create predicted modes for all triplegs, and fill the missing values with these predicted modes."
   ]
  },
  {
   "cell_type": "code",
   "execution_count": null,
   "metadata": {},
   "outputs": [],
   "source": [
    "# TODO: impute transport mode with prediction based on speed\n",
    "tpls_with_predicted_mode = ...\n",
    "# add to the original dataframe as a column named \"pred_mode\"\n",
    "tpls[\"pred_mode\"] = tpls_with_predicted_mode[\"mode\"]\n",
    "# TODO: Fill missing values in \"mode\" column with the predicted modes"
   ]
  },
  {
   "cell_type": "markdown",
   "metadata": {},
   "source": [
    "## Task 5: Align mode labels\n",
    "\n",
    "You may have noted that the predicted modes have three categories: \"slow\", \"motorized\", and \"fast\". This is not comparable to the original Geolife categories (or the categories available in your own dataset). Use the following dictionary to rename the modes, such that all of them are one of \"slow\", \"motorized\", and \"fast\". Then count the number of triplegs per category."
   ]
  },
  {
   "cell_type": "code",
   "execution_count": null,
   "metadata": {},
   "outputs": [],
   "source": [
    "mode_to_category = {\n",
    "    \"fast_mobility\": \"fast\",\n",
    "    \"car\": \"motorized\",\n",
    "    \"bus\": \"motorized\",\n",
    "    \"taxi\": \"motorized\",\n",
    "    \"ecar\": \"motorized\",\n",
    "    \"motorized_mobility\": \"motorized\",\n",
    "    \"bike\": \"slow\",\n",
    "    \"walk\": \"slow\",\n",
    "    \"slow_mobility\": \"slow\",\n",
    "}\n",
    "\n",
    "# TODO: change mode labels with the above mapping"
   ]
  },
  {
   "cell_type": "markdown",
   "metadata": {},
   "source": [
    "## Task 6: Compute the modal split\n",
    "\n",
    "Use the function [calculate_modal_split](https://trackintel.readthedocs.io/en/latest/modules/analysis.html#trackintel.analysis.calculate_modal_split) to compute the model split by count, distance or duration. Aggregate the data per month. Check out the other parameters of the function; for example, the modal split can be provided in absolute values or relative (`norm=True`).\n",
    "\n",
    "Then, plot the modal split via the [plot_modal_split](https://trackintel.readthedocs.io/en/latest/modules/visualization.html#trackintel.plot_modal_split) function. "
   ]
  },
  {
   "cell_type": "code",
   "execution_count": null,
   "metadata": {
    "scrolled": true
   },
   "outputs": [],
   "source": [
    "mode = \"count\" # modal split by count (number of triplegs per mode), can be switched for \"distance\" or \"duration\"\n",
    "\n",
    "# TODO: calculate modal split\n",
    "modal_split = ti.analysis.calculate_modal_split(tpls, ...)\n",
    "\n",
    "# TODO: visualize the modal split\n",
    "fig, ax = plt.subplots(figsize=(10, 6))\n",
    "ax = ti.plot_modal_split(\n",
    "    ...\n",
    "    axis=ax,\n",
    "    borderaxespad=2,\n",
    ")\n",
    "fig.autofmt_xdate()"
   ]
  }
 ],
 "metadata": {
  "kernelspec": {
   "display_name": "Python 3 (ipykernel)",
   "language": "python",
   "name": "python3"
  },
  "language_info": {
   "codemirror_mode": {
    "name": "ipython",
    "version": 3
   },
   "file_extension": ".py",
   "mimetype": "text/x-python",
   "name": "python",
   "nbconvert_exporter": "python",
   "pygments_lexer": "ipython3",
   "version": "3.9.18"
  },
  "vscode": {
   "interpreter": {
    "hash": "9597c3010ccf3b8705a75eca2c37e93b64c1720a9347287e0e23a990d1a82733"
   }
  }
 },
 "nbformat": 4,
 "nbformat_minor": 4
}
